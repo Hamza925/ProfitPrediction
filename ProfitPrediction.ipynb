{
 "cells": [
  {
   "cell_type": "markdown",
   "metadata": {},
   "source": [
    "In this notebook we will be using SALES dataset stored in a mysql database and we will use SUpervised classification algorithms for learning how profit is generated and we print the accuracy, accuracy matrix for each of these.."
   ]
  },
  {
   "cell_type": "code",
   "execution_count": 2,
   "metadata": {},
   "outputs": [],
   "source": [
    "import pandas as pd\n",
    "import numpy as np\n",
    "import sqlalchemy\n",
    "from sklearn.preprocessing import OneHotEncoder \n",
    "from sklearn.compose import ColumnTransformer \n",
    "# Import train_test_split function\n",
    "from sklearn.model_selection import train_test_split\n",
    "from sklearn.metrics import classification_report, confusion_matrix\n",
    "#Import scikit-learn metrics module for accuracy calculation\n",
    "from sklearn import metrics"
   ]
  },
  {
   "cell_type": "code",
   "execution_count": 3,
   "metadata": {},
   "outputs": [],
   "source": [
    "database_username = 'root'#enter db admin username\n",
    "database_password = 'root' #enter db password\n",
    "database_ip       = '127.0.0.1:3306' #enter host connection\n",
    "database_name     = 'storedata' #db name\n",
    "database_connection = sqlalchemy.create_engine('mysql+mysqlconnector://{0}:{1}@{2}/{3}'.\n",
    "                                               format(database_username, database_password, \n",
    "                                                      database_ip, database_name))\n",
    "#to store the table into MySQL database...it is has been commented because the table is already stored in database\n",
    "#store_df.to_sql(con=database_connection, name='storedata', if_exists='replace')"
   ]
  },
  {
   "cell_type": "code",
   "execution_count": 4,
   "metadata": {},
   "outputs": [],
   "source": [
    "#we create a dataframe from the table ' storedate' in the database....\n",
    "store_df = pd.read_sql(\"select * from storedata\", database_connection);"
   ]
  },
  {
   "cell_type": "code",
   "execution_count": 5,
   "metadata": {},
   "outputs": [
    {
     "data": {
      "text/html": [
       "<div>\n",
       "<style scoped>\n",
       "    .dataframe tbody tr th:only-of-type {\n",
       "        vertical-align: middle;\n",
       "    }\n",
       "\n",
       "    .dataframe tbody tr th {\n",
       "        vertical-align: top;\n",
       "    }\n",
       "\n",
       "    .dataframe thead th {\n",
       "        text-align: right;\n",
       "    }\n",
       "</style>\n",
       "<table border=\"1\" class=\"dataframe\">\n",
       "  <thead>\n",
       "    <tr style=\"text-align: right;\">\n",
       "      <th></th>\n",
       "      <th>index</th>\n",
       "      <th>Sales</th>\n",
       "      <th>Quantity</th>\n",
       "      <th>Discount</th>\n",
       "      <th>Profit</th>\n",
       "      <th>Month</th>\n",
       "    </tr>\n",
       "  </thead>\n",
       "  <tbody>\n",
       "    <tr>\n",
       "      <th>count</th>\n",
       "      <td>4210.000000</td>\n",
       "      <td>4210.000000</td>\n",
       "      <td>4210.000000</td>\n",
       "      <td>4210.000000</td>\n",
       "      <td>4210.000000</td>\n",
       "      <td>4210.000000</td>\n",
       "    </tr>\n",
       "    <tr>\n",
       "      <th>mean</th>\n",
       "      <td>2104.500000</td>\n",
       "      <td>545.653411</td>\n",
       "      <td>8.995962</td>\n",
       "      <td>0.370805</td>\n",
       "      <td>83.800475</td>\n",
       "      <td>7.125416</td>\n",
       "    </tr>\n",
       "    <tr>\n",
       "      <th>std</th>\n",
       "      <td>1215.466646</td>\n",
       "      <td>1063.543578</td>\n",
       "      <td>7.597797</td>\n",
       "      <td>0.536742</td>\n",
       "      <td>184.528025</td>\n",
       "      <td>3.430877</td>\n",
       "    </tr>\n",
       "    <tr>\n",
       "      <th>min</th>\n",
       "      <td>0.000000</td>\n",
       "      <td>0.836000</td>\n",
       "      <td>1.000000</td>\n",
       "      <td>0.000000</td>\n",
       "      <td>0.000000</td>\n",
       "      <td>1.000000</td>\n",
       "    </tr>\n",
       "    <tr>\n",
       "      <th>25%</th>\n",
       "      <td>1052.250000</td>\n",
       "      <td>48.817500</td>\n",
       "      <td>4.000000</td>\n",
       "      <td>0.000000</td>\n",
       "      <td>0.000000</td>\n",
       "      <td>4.000000</td>\n",
       "    </tr>\n",
       "    <tr>\n",
       "      <th>50%</th>\n",
       "      <td>2104.500000</td>\n",
       "      <td>198.094000</td>\n",
       "      <td>7.000000</td>\n",
       "      <td>0.200000</td>\n",
       "      <td>50.000000</td>\n",
       "      <td>7.000000</td>\n",
       "    </tr>\n",
       "    <tr>\n",
       "      <th>75%</th>\n",
       "      <td>3156.750000</td>\n",
       "      <td>632.679750</td>\n",
       "      <td>12.000000</td>\n",
       "      <td>0.437500</td>\n",
       "      <td>75.000000</td>\n",
       "      <td>10.000000</td>\n",
       "    </tr>\n",
       "    <tr>\n",
       "      <th>max</th>\n",
       "      <td>4209.000000</td>\n",
       "      <td>23661.228000</td>\n",
       "      <td>70.000000</td>\n",
       "      <td>4.000000</td>\n",
       "      <td>2500.000000</td>\n",
       "      <td>12.000000</td>\n",
       "    </tr>\n",
       "  </tbody>\n",
       "</table>\n",
       "</div>"
      ],
      "text/plain": [
       "             index         Sales     Quantity     Discount       Profit  \\\n",
       "count  4210.000000   4210.000000  4210.000000  4210.000000  4210.000000   \n",
       "mean   2104.500000    545.653411     8.995962     0.370805    83.800475   \n",
       "std    1215.466646   1063.543578     7.597797     0.536742   184.528025   \n",
       "min       0.000000      0.836000     1.000000     0.000000     0.000000   \n",
       "25%    1052.250000     48.817500     4.000000     0.000000     0.000000   \n",
       "50%    2104.500000    198.094000     7.000000     0.200000    50.000000   \n",
       "75%    3156.750000    632.679750    12.000000     0.437500    75.000000   \n",
       "max    4209.000000  23661.228000    70.000000     4.000000  2500.000000   \n",
       "\n",
       "             Month  \n",
       "count  4210.000000  \n",
       "mean      7.125416  \n",
       "std       3.430877  \n",
       "min       1.000000  \n",
       "25%       4.000000  \n",
       "50%       7.000000  \n",
       "75%      10.000000  \n",
       "max      12.000000  "
      ]
     },
     "execution_count": 5,
     "metadata": {},
     "output_type": "execute_result"
    }
   ],
   "source": [
    "store_df.describe()"
   ]
  },
  {
   "cell_type": "code",
   "execution_count": 6,
   "metadata": {},
   "outputs": [],
   "source": [
    "#we reset the index...\n",
    "store_df.set_index('index', inplace=True)"
   ]
  },
  {
   "cell_type": "code",
   "execution_count": 7,
   "metadata": {},
   "outputs": [],
   "source": [
    "#change the data object to datetimetype\n",
    "store_df['Order Date'] = pd.to_datetime(store_df['Order Date'])\n",
    "#we convert profit to integer to make data non-continous...\n",
    "store_df['Profit'] = store_df['Profit'].astype('int')"
   ]
  },
  {
   "cell_type": "code",
   "execution_count": 8,
   "metadata": {},
   "outputs": [
    {
     "data": {
      "text/plain": [
       "State                 object\n",
       "Order Date    datetime64[ns]\n",
       "Sales                float64\n",
       "Quantity               int64\n",
       "Discount             float64\n",
       "Profit                 int32\n",
       "Month                  int64\n",
       "dtype: object"
      ]
     },
     "execution_count": 8,
     "metadata": {},
     "output_type": "execute_result"
    }
   ],
   "source": [
    "store_df.dtypes"
   ]
  },
  {
   "cell_type": "code",
   "execution_count": 9,
   "metadata": {},
   "outputs": [],
   "source": [
    "#extract month from datetime so we can later use it to predict monthly profits\n",
    "store_df['Month'] = pd.DatetimeIndex(store_df['Order Date']).month"
   ]
  },
  {
   "cell_type": "code",
   "execution_count": 10,
   "metadata": {},
   "outputs": [
    {
     "name": "stdout",
     "output_type": "stream",
     "text": [
      "(4210, 49)\n"
     ]
    }
   ],
   "source": [
    "#since ML algorithms dont work with strings we encode the 'State' column into a onehotencoded code....\n",
    "x = store_df[['State']]\n",
    "encoded_states = OneHotEncoder().fit_transform(x).toarray()\n",
    "print(encoded_states.shape)\n"
   ]
  },
  {
   "cell_type": "code",
   "execution_count": 11,
   "metadata": {},
   "outputs": [],
   "source": [
    "#setting features...\n",
    "store_data = store_df[['Month','Sales','Quantity','Discount']].to_numpy()"
   ]
  },
  {
   "cell_type": "code",
   "execution_count": 12,
   "metadata": {},
   "outputs": [],
   "source": [
    "#merging encoded category with the features...\n",
    "store_data = np.concatenate((encoded_states,store_data),axis=1)"
   ]
  },
  {
   "cell_type": "code",
   "execution_count": 124,
   "metadata": {},
   "outputs": [],
   "source": [
    "#since these are already in the database as integers classes...\n",
    "#we make classes for level of profits....\n",
    "\n",
    "#the store has a fixed profit for sales made within these ranges for e.g any sales between 100 to 500 \n",
    "#have a fixed prfit of 50 and so other rates 500 to 1000 are 75 etc...\n",
    "\n",
    "#store_df['Profit'].loc[store_df['Sales'].between(0, 100)] = 0\n",
    "\n",
    "\n",
    "#store_df['Profit'].loc[store_df['Sales'].between(100, 500)] = 50\n",
    "    \n",
    "\n",
    "#store_df['Profit'].loc[store_df['Sales'].between(500, 1000)] = 75\n",
    "    \n",
    "\n",
    "#store_df['Profit'].loc[store_df['Sales'].between(1000, 2000)] = 200\n",
    "    \n",
    "\n",
    "#store_df['Profit'].loc[store_df['Sales'].between(2000, 5000)] = 500\n",
    "        \n",
    "#store_df['Profit'].loc[store_df['Sales'].between(5000, 10000)] = 1500\n",
    "#store_df['Profit'].loc[store_df['Sales'].between(10000, 50000)] = 2500\n"
   ]
  },
  {
   "cell_type": "code",
   "execution_count": 62,
   "metadata": {},
   "outputs": [],
   "source": [
    "#storing the dataframe as csv for later use....\n",
    "store_df.to_csv('C:/Users/Hamza-Acer/Documents/storedata_processed.csv', index = False)"
   ]
  },
  {
   "cell_type": "code",
   "execution_count": 13,
   "metadata": {},
   "outputs": [],
   "source": [
    "#setting target label....\n",
    "store_target = store_df[['Profit']].to_numpy()"
   ]
  },
  {
   "cell_type": "code",
   "execution_count": 14,
   "metadata": {},
   "outputs": [
    {
     "data": {
      "text/plain": [
       "array([[  0],\n",
       "       [  0],\n",
       "       [  0],\n",
       "       ...,\n",
       "       [200],\n",
       "       [ 50],\n",
       "       [200]])"
      ]
     },
     "execution_count": 14,
     "metadata": {},
     "output_type": "execute_result"
    }
   ],
   "source": [
    "#We store the Profit column into a numpy array which is our target column...\n",
    "#target column is the label we want to predict['Profit']...\n",
    "store_target"
   ]
  },
  {
   "cell_type": "code",
   "execution_count": 15,
   "metadata": {},
   "outputs": [],
   "source": [
    "# Split dataset into training set and test set\n",
    "X_train, X_test, y_train, y_test = train_test_split(store_data, store_target, test_size=0.3,random_state=109) # 70% training and 30% test"
   ]
  },
  {
   "cell_type": "code",
   "execution_count": 16,
   "metadata": {},
   "outputs": [
    {
     "name": "stderr",
     "output_type": "stream",
     "text": [
      "c:\\users\\hamza-acer\\appdata\\local\\programs\\python\\python38\\lib\\site-packages\\sklearn\\utils\\validation.py:73: DataConversionWarning: A column-vector y was passed when a 1d array was expected. Please change the shape of y to (n_samples, ), for example using ravel().\n",
      "  return f(**kwargs)\n"
     ]
    }
   ],
   "source": [
    "#Import svm model\n",
    "from sklearn import svm\n",
    "\n",
    "#Create a svm Classifier\n",
    "clf_SVM = svm.SVC(kernel='rbf') # rbf Kernel\n",
    "\n",
    "#Train the model using the training sets\n",
    "clf_SVM.fit(X_train, y_train)\n",
    "\n",
    "#Predict the response for test dataset\n",
    "y_pred_SVM = clf_SVM.predict(X_test)"
   ]
  },
  {
   "cell_type": "code",
   "execution_count": 17,
   "metadata": {},
   "outputs": [
    {
     "name": "stdout",
     "output_type": "stream",
     "text": [
      "Accuracy: 0.9746634996041171\n"
     ]
    }
   ],
   "source": [
    "# Model Accuracy: how often is the classifier correct?\n",
    "print(\"Accuracy:\",metrics.accuracy_score(y_test, y_pred_SVM))"
   ]
  },
  {
   "cell_type": "code",
   "execution_count": 18,
   "metadata": {},
   "outputs": [],
   "source": [
    "#predict the profit for all data...\n",
    "y_pred_SVM = clf_SVM.predict(store_data)"
   ]
  },
  {
   "cell_type": "code",
   "execution_count": 118,
   "metadata": {},
   "outputs": [],
   "source": [
    "#adding the predicted column to the store_df table for analysis.....\n",
    "store_df['Predicted Profit'] = pd.Series(y_pred_SVM)\n",
    "#save it as a CSV for tableau data analysis\n",
    "store_df.to_csv('C:/Users/Hamza-Acer/Documents/storedata_SVM.csv', index = False)"
   ]
  },
  {
   "cell_type": "code",
   "execution_count": 19,
   "metadata": {},
   "outputs": [
    {
     "name": "stdout",
     "output_type": "stream",
     "text": [
      "[[1560    0    0    0    0    0    0]\n",
      " [  94 1277    0    0    0    0    0]\n",
      " [   0   13  621    0    0    0    0]\n",
      " [   0    0    6  409    1    0    0]\n",
      " [   0    0    0    0  197    0    0]\n",
      " [   0    0    0    0    3   22    0]\n",
      " [   0    0    0    0    0    1    6]]\n",
      "              precision    recall  f1-score   support\n",
      "\n",
      "           0       0.94      1.00      0.97      1560\n",
      "          50       0.99      0.93      0.96      1371\n",
      "          75       0.99      0.98      0.98       634\n",
      "         200       1.00      0.98      0.99       416\n",
      "         500       0.98      1.00      0.99       197\n",
      "        1500       0.96      0.88      0.92        25\n",
      "        2500       1.00      0.86      0.92         7\n",
      "\n",
      "    accuracy                           0.97      4210\n",
      "   macro avg       0.98      0.95      0.96      4210\n",
      "weighted avg       0.97      0.97      0.97      4210\n",
      "\n"
     ]
    }
   ],
   "source": [
    "#Print accuracy matrix for SVM kernel'rbf' algorithm for complete data...\n",
    "print(confusion_matrix(store_target, y_pred_SVM))\n",
    "print(classification_report(store_target, y_pred_SVM))"
   ]
  },
  {
   "cell_type": "code",
   "execution_count": 20,
   "metadata": {},
   "outputs": [
    {
     "name": "stderr",
     "output_type": "stream",
     "text": [
      "<ipython-input-20-6a0797e61d43>:3: DataConversionWarning: A column-vector y was passed when a 1d array was expected. Please change the shape of y to (n_samples, ), for example using ravel().\n",
      "  clf_knn.fit(X_train, y_train)\n"
     ]
    }
   ],
   "source": [
    "from sklearn.neighbors import KNeighborsClassifier\n",
    "clf_knn = KNeighborsClassifier(n_neighbors=7)# we have 7 categories of profits\n",
    "clf_knn.fit(X_train, y_train)\n",
    "\n",
    "y_pred_knn = clf_knn.predict(X_test)"
   ]
  },
  {
   "cell_type": "code",
   "execution_count": 21,
   "metadata": {},
   "outputs": [
    {
     "name": "stdout",
     "output_type": "stream",
     "text": [
      "Accuracy: 0.9936658749010293\n"
     ]
    }
   ],
   "source": [
    "# Model Accuracy: how often is the classifier correct?\n",
    "print(\"Accuracy:\",metrics.accuracy_score(y_test, y_pred_knn))"
   ]
  },
  {
   "cell_type": "code",
   "execution_count": 22,
   "metadata": {},
   "outputs": [],
   "source": [
    "#predict the profit for all data...\n",
    "y_pred_knn = clf_knn.predict(store_data)"
   ]
  },
  {
   "cell_type": "code",
   "execution_count": 113,
   "metadata": {},
   "outputs": [],
   "source": [
    "#adding the predicted column to the store_df table for analysis.....\n",
    "store_df['Predicted Profit'] = pd.Series(y_pred_knn)\n",
    "#save it as a CSV for tableau data analysis\n",
    "store_df.to_csv('C:/Users/Hamza-Acer/Documents/storedata_knn.csv', index = False)"
   ]
  },
  {
   "cell_type": "code",
   "execution_count": 23,
   "metadata": {},
   "outputs": [
    {
     "name": "stdout",
     "output_type": "stream",
     "text": [
      "[[1557    3    0    0    0    0    0]\n",
      " [   2 1367    2    0    0    0    0]\n",
      " [   0    0  632    2    0    0    0]\n",
      " [   0    0    1  414    1    0    0]\n",
      " [   0    0    0    0  197    0    0]\n",
      " [   0    0    0    0    4   21    0]\n",
      " [   0    0    0    0    0    2    5]]\n",
      "              precision    recall  f1-score   support\n",
      "\n",
      "           0       1.00      1.00      1.00      1560\n",
      "          50       1.00      1.00      1.00      1371\n",
      "          75       1.00      1.00      1.00       634\n",
      "         200       1.00      1.00      1.00       416\n",
      "         500       0.98      1.00      0.99       197\n",
      "        1500       0.91      0.84      0.87        25\n",
      "        2500       1.00      0.71      0.83         7\n",
      "\n",
      "    accuracy                           1.00      4210\n",
      "   macro avg       0.98      0.93      0.95      4210\n",
      "weighted avg       1.00      1.00      1.00      4210\n",
      "\n"
     ]
    }
   ],
   "source": [
    "#Print accuracy matrix for KNN algorithm for complete data...\n",
    "print(confusion_matrix(store_target, y_pred_knn))\n",
    "print(classification_report(store_target, y_pred_knn))"
   ]
  },
  {
   "cell_type": "code",
   "execution_count": 24,
   "metadata": {},
   "outputs": [
    {
     "name": "stderr",
     "output_type": "stream",
     "text": [
      "c:\\users\\hamza-acer\\appdata\\local\\programs\\python\\python38\\lib\\site-packages\\sklearn\\utils\\validation.py:73: DataConversionWarning: A column-vector y was passed when a 1d array was expected. Please change the shape of y to (n_samples, ), for example using ravel().\n",
      "  return f(**kwargs)\n",
      "c:\\users\\hamza-acer\\appdata\\local\\programs\\python\\python38\\lib\\site-packages\\sklearn\\linear_model\\_logistic.py:762: ConvergenceWarning: lbfgs failed to converge (status=1):\n",
      "STOP: TOTAL NO. of ITERATIONS REACHED LIMIT.\n",
      "\n",
      "Increase the number of iterations (max_iter) or scale the data as shown in:\n",
      "    https://scikit-learn.org/stable/modules/preprocessing.html\n",
      "Please also refer to the documentation for alternative solver options:\n",
      "    https://scikit-learn.org/stable/modules/linear_model.html#logistic-regression\n",
      "  n_iter_i = _check_optimize_result(\n"
     ]
    }
   ],
   "source": [
    "from sklearn.linear_model import LogisticRegression\n",
    "\n",
    "# instantiate the model (using the default parameters)\n",
    "clf_logreg = LogisticRegression()\n",
    "\n",
    "# fit the model with data\n",
    "clf_logreg.fit(X_train,y_train)\n",
    "\n",
    "#\n",
    "y_pred_logreg=clf_logreg.predict(X_test)"
   ]
  },
  {
   "cell_type": "code",
   "execution_count": 25,
   "metadata": {},
   "outputs": [
    {
     "name": "stdout",
     "output_type": "stream",
     "text": [
      "Accuracy: 0.7410926365795725\n"
     ]
    }
   ],
   "source": [
    "# Model Accuracy: for the test data\n",
    "print(\"Accuracy:\",metrics.accuracy_score(y_test, y_pred_logreg))"
   ]
  },
  {
   "cell_type": "code",
   "execution_count": 26,
   "metadata": {},
   "outputs": [],
   "source": [
    "#predict the profit for all data...\n",
    "y_pred_logreg = clf_logreg.predict(store_data)"
   ]
  },
  {
   "cell_type": "code",
   "execution_count": 106,
   "metadata": {},
   "outputs": [],
   "source": [
    "#adding the predicted column to the store_df table for analysis.....\n",
    "store_df['Predicted Profit'] = pd.Series(y_pred_logreg)\n",
    "#save it as a CSV for tableau data analysis\n",
    "store_df.to_csv('C:/Users/Hamza-Acer/Documents/storedata_logreg.csv', index = False)"
   ]
  },
  {
   "cell_type": "code",
   "execution_count": 27,
   "metadata": {},
   "outputs": [
    {
     "name": "stdout",
     "output_type": "stream",
     "text": [
      "[[1356  203    1    0    0    0    0]\n",
      " [  85 1069  174   41    2    0    0]\n",
      " [   0  136  377  108   13    0    0]\n",
      " [   0    3  144  211   55    3    0]\n",
      " [   0    0    0   86  103    8    0]\n",
      " [   0    0    0    0   18    7    0]\n",
      " [   0    0    0    0    1    6    0]]\n",
      "              precision    recall  f1-score   support\n",
      "\n",
      "           0       0.94      0.87      0.90      1560\n",
      "          50       0.76      0.78      0.77      1371\n",
      "          75       0.54      0.59      0.57       634\n",
      "         200       0.47      0.51      0.49       416\n",
      "         500       0.54      0.52      0.53       197\n",
      "        1500       0.29      0.28      0.29        25\n",
      "        2500       0.00      0.00      0.00         7\n",
      "\n",
      "    accuracy                           0.74      4210\n",
      "   macro avg       0.51      0.51      0.51      4210\n",
      "weighted avg       0.75      0.74      0.75      4210\n",
      "\n"
     ]
    },
    {
     "name": "stderr",
     "output_type": "stream",
     "text": [
      "c:\\users\\hamza-acer\\appdata\\local\\programs\\python\\python38\\lib\\site-packages\\sklearn\\metrics\\_classification.py:1221: UndefinedMetricWarning: Precision and F-score are ill-defined and being set to 0.0 in labels with no predicted samples. Use `zero_division` parameter to control this behavior.\n",
      "  _warn_prf(average, modifier, msg_start, len(result))\n"
     ]
    }
   ],
   "source": [
    "#accuracy of using logarithmic regression algorithm for the complete dataset\n",
    "print(confusion_matrix(store_target, y_pred_logreg))\n",
    "print(classification_report(store_target, y_pred_logreg))"
   ]
  },
  {
   "cell_type": "code",
   "execution_count": 28,
   "metadata": {},
   "outputs": [],
   "source": [
    "from sklearn.tree import DecisionTreeClassifier\n",
    "# Create Decision Tree classifer object\n",
    "clf_tree = DecisionTreeClassifier(criterion=\"entropy\", max_depth=4)\n",
    "\n",
    "# Train Decision Tree Classifer\n",
    "clf_tree = clf_tree.fit(X_train,y_train)\n",
    "\n",
    "#Predict the response for test dataset\n",
    "y_pred_tree = clf_tree.predict(X_test)"
   ]
  },
  {
   "cell_type": "code",
   "execution_count": 29,
   "metadata": {},
   "outputs": [
    {
     "name": "stdout",
     "output_type": "stream",
     "text": [
      "Accuracy: 0.9920823436262867\n"
     ]
    }
   ],
   "source": [
    "# Model Accuracy: how often is the classifier correct?\n",
    "print(\"Accuracy:\",metrics.accuracy_score(y_test, y_pred_tree))"
   ]
  },
  {
   "cell_type": "code",
   "execution_count": 30,
   "metadata": {},
   "outputs": [],
   "source": [
    "y_pred_tree = clf_tree.predict(store_data)"
   ]
  },
  {
   "cell_type": "code",
   "execution_count": 100,
   "metadata": {},
   "outputs": [],
   "source": [
    "#adding the predicted column to the store_df table for analysis.....\n",
    "store_df['Predicted Profit'] = pd.Series(y_pred_tree)\n",
    "#save it as a CSV for tableau data analysis\n",
    "store_df.to_csv('C:/Users/Hamza-Acer/Documents/storedata_tree.csv', index = False)"
   ]
  },
  {
   "cell_type": "code",
   "execution_count": 31,
   "metadata": {},
   "outputs": [
    {
     "name": "stdout",
     "output_type": "stream",
     "text": [
      "[[1560    0    0    0    0    0    0]\n",
      " [   0 1370    1    0    0    0    0]\n",
      " [   0    0  634    0    0    0    0]\n",
      " [   0    0    1  415    0    0    0]\n",
      " [   0    0    0    0  197    0    0]\n",
      " [   0    0    0    0   25    0    0]\n",
      " [   0    0    0    0    7    0    0]]\n",
      "              precision    recall  f1-score   support\n",
      "\n",
      "           0       1.00      1.00      1.00      1560\n",
      "          50       1.00      1.00      1.00      1371\n",
      "          75       1.00      1.00      1.00       634\n",
      "         200       1.00      1.00      1.00       416\n",
      "         500       0.86      1.00      0.92       197\n",
      "        1500       0.00      0.00      0.00        25\n",
      "        2500       0.00      0.00      0.00         7\n",
      "\n",
      "    accuracy                           0.99      4210\n",
      "   macro avg       0.69      0.71      0.70      4210\n",
      "weighted avg       0.99      0.99      0.99      4210\n",
      "\n"
     ]
    },
    {
     "name": "stderr",
     "output_type": "stream",
     "text": [
      "c:\\users\\hamza-acer\\appdata\\local\\programs\\python\\python38\\lib\\site-packages\\sklearn\\metrics\\_classification.py:1221: UndefinedMetricWarning: Precision and F-score are ill-defined and being set to 0.0 in labels with no predicted samples. Use `zero_division` parameter to control this behavior.\n",
      "  _warn_prf(average, modifier, msg_start, len(result))\n"
     ]
    }
   ],
   "source": [
    "#accuracy of using tree algorithm for the complete dataset\n",
    "print(confusion_matrix(store_target, y_pred_tree))\n",
    "print(classification_report(store_target, y_pred_tree))"
   ]
  },
  {
   "cell_type": "code",
   "execution_count": 33,
   "metadata": {},
   "outputs": [
    {
     "name": "stdout",
     "output_type": "stream",
     "text": [
      "Accuracy of SVM 0.9719714964370546\n",
      "Accuracy of KNN 0.9959619952494062\n",
      "Accuracy of Logarithmic Regression 0.7418052256532066\n",
      "Accuracy of Decision Tree Classifier 0.9919239904988123\n"
     ]
    }
   ],
   "source": [
    "print(\"Accuracy of SVM\",metrics.accuracy_score(store_target, y_pred_SVM))\n",
    "print(\"Accuracy of KNN\",metrics.accuracy_score(store_target, y_pred_knn))\n",
    "print(\"Accuracy of Logarithmic Regression\",metrics.accuracy_score(store_target, y_pred_logreg))\n",
    "print(\"Accuracy of Decision Tree Classifier\",metrics.accuracy_score(store_target, y_pred_tree))"
   ]
  },
  {
   "cell_type": "code",
   "execution_count": null,
   "metadata": {},
   "outputs": [],
   "source": []
  }
 ],
 "metadata": {
  "kernelspec": {
   "display_name": "Python 3",
   "language": "python",
   "name": "python3"
  },
  "language_info": {
   "codemirror_mode": {
    "name": "ipython",
    "version": 3
   },
   "file_extension": ".py",
   "mimetype": "text/x-python",
   "name": "python",
   "nbconvert_exporter": "python",
   "pygments_lexer": "ipython3",
   "version": "3.8.3"
  }
 },
 "nbformat": 4,
 "nbformat_minor": 4
}
